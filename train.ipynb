{
  "nbformat": 4,
  "nbformat_minor": 0,
  "metadata": {
    "accelerator": "GPU",
    "colab": {
      "name": "train.ipynb",
      "provenance": [],
      "collapsed_sections": [],
      "mount_file_id": "1EfCIENLIL5Dh0fYVWbeB49m8utqv7CXc",
      "authorship_tag": "ABX9TyNZ8Sk5gDHzXFsAF5Zm+uyz"
    },
    "kernelspec": {
      "display_name": "Python 3",
      "name": "python3"
    }
  },
  "cells": [
    {
      "cell_type": "code",
      "metadata": {
        "id": "wC-d7JZvjtj_"
      },
      "source": [
        "import numpy as np\n",
        "import tensorflow as tf\n",
        "from tensorflow import keras\n",
        "from keras import layers\n",
        "from keras import activations\n",
        "from keras import optimizers\n",
        "from keras import losses\n",
        "from keras.callbacks import ModelCheckpoint"
      ],
      "execution_count": null,
      "outputs": []
    },
    {
      "cell_type": "code",
      "metadata": {
        "id": "r0FxwVqnDOdv"
      },
      "source": [
        "states = np.load(\"/content/drive/MyDrive/Numerical Methods Neural Chess/data/all_states_master.npz\")['arr_0'][:-18]\n",
        "dww = np.load(\"/content/drive/MyDrive/Numerical Methods Neural Chess/data/dww_master.npz\")['arr_0'][:-18]"
      ],
      "execution_count": null,
      "outputs": []
    },
    {
      "cell_type": "code",
      "metadata": {
        "id": "hAUnHKyw4qLD"
      },
      "source": [
        "inputs = keras.Input(shape = (768,), dtype = np.int8)\n",
        "x = layers.Dense(512, activation = \"relu\")(inputs)\n",
        "x = tf.keras.layers.Dropout(.25, input_shape=(768,))(x)\n",
        "x = layers.Dense(512, activation = \"relu\")(x)\n",
        "x = tf.keras.layers.Dropout(.25, input_shape=(768,))(x)\n",
        "x = layers.Dense(512, activation = \"relu\")(x)\n",
        "outputs = layers.Dense(1, activation = \"sigmoid\")(x)\n",
        "model = keras.Model(inputs=inputs, outputs=outputs)"
      ],
      "execution_count": null,
      "outputs": []
    },
    {
      "cell_type": "code",
      "metadata": {
        "colab": {
          "base_uri": "https://localhost:8080/"
        },
        "id": "RnoE3twP1Aqy",
        "outputId": "f60777a5-025e-47be-867e-ab157a6f6262"
      },
      "source": [
        "model.summary()\n",
        "opt = tf.keras.optimizers.SGD(momentum = 0.9, nesterov=True, learning_rate = 0.01)\n",
        "model.compile(\n",
        "    optimizer = opt, \n",
        "    loss=tf.keras.losses.BinaryCrossentropy(), \n",
        "    metrics=[tf.keras.metrics.BinaryAccuracy()]\n",
        "    )\n",
        "#model.load_weights('/content/drive/MyDrive/Numerical Methods Neural Chess/nets/modelweights2.hdf5')\n",
        "checkpoint_filepath = '/content/drive/MyDrive/Numerical Methods Neural Chess/nets/modelweights3.hdf5'\n",
        "my_callbacks = [\n",
        "    #tf.keras.callbacks.EarlyStopping(\n",
        "    #monitor=\"val_binary_accuracy\",\n",
        "    #mode = \"max\",\n",
        "    #patience=10\n",
        "    #),\n",
        "    tf.keras.callbacks.ModelCheckpoint(\n",
        "    filepath = checkpoint_filepath,\n",
        "    save_weights_only = True,\n",
        "    monitor = 'val_binary_accuracy',\n",
        "    mode = 'max',\n",
        "    save_best_only=True\n",
        "    ),\n",
        "    tf.keras.callbacks.TensorBoard(log_dir=\"/content/drive/MyDrive/Numerical Methods Neural Chess/logs3\")\n",
        "]\n",
        "model.fit(\n",
        "    states, \n",
        "    dww, \n",
        "    epochs=30, \n",
        "    shuffle = True,\n",
        "    callbacks=my_callbacks,\n",
        "    validation_split = 64/170619\n",
        "    )\n",
        "\n"
      ],
      "execution_count": null,
      "outputs": [
        {
          "output_type": "stream",
          "text": [
            "Model: \"functional_5\"\n",
            "_________________________________________________________________\n",
            "Layer (type)                 Output Shape              Param #   \n",
            "=================================================================\n",
            "input_3 (InputLayer)         [(None, 768)]             0         \n",
            "_________________________________________________________________\n",
            "dense_8 (Dense)              (None, 512)               393728    \n",
            "_________________________________________________________________\n",
            "dropout_4 (Dropout)          (None, 512)               0         \n",
            "_________________________________________________________________\n",
            "dense_9 (Dense)              (None, 512)               262656    \n",
            "_________________________________________________________________\n",
            "dropout_5 (Dropout)          (None, 512)               0         \n",
            "_________________________________________________________________\n",
            "dense_10 (Dense)             (None, 512)               262656    \n",
            "_________________________________________________________________\n",
            "dense_11 (Dense)             (None, 1)                 513       \n",
            "=================================================================\n",
            "Total params: 919,553\n",
            "Trainable params: 919,553\n",
            "Non-trainable params: 0\n",
            "_________________________________________________________________\n",
            "Epoch 1/30\n",
            "     1/170555 [..............................] - ETA: 1:18 - loss: 0.6817 - binary_accuracy: 0.6562WARNING:tensorflow:From /usr/local/lib/python3.6/dist-packages/tensorflow/python/ops/summary_ops_v2.py:1277: stop (from tensorflow.python.eager.profiler) is deprecated and will be removed after 2020-07-01.\n",
            "Instructions for updating:\n",
            "use `tf.profiler.experimental.stop` instead.\n",
            "     2/170555 [..............................] - ETA: 2:58:52 - loss: 0.6940 - binary_accuracy: 0.5312WARNING:tensorflow:Callbacks method `on_train_batch_end` is slow compared to the batch time (batch time: 0.0085s vs `on_train_batch_end` time: 0.1185s). Check your callbacks.\n",
            "170555/170555 [==============================] - 381s 2ms/step - loss: 0.5616 - binary_accuracy: 0.6910 - val_loss: 0.5813 - val_binary_accuracy: 0.6899\n",
            "Epoch 2/30\n",
            "170555/170555 [==============================] - 380s 2ms/step - loss: 0.5030 - binary_accuracy: 0.7315 - val_loss: 0.6281 - val_binary_accuracy: 0.6621\n",
            "Epoch 3/30\n",
            "170555/170555 [==============================] - 374s 2ms/step - loss: 0.4744 - binary_accuracy: 0.7488 - val_loss: 0.6667 - val_binary_accuracy: 0.6274\n",
            "Epoch 4/30\n",
            "170555/170555 [==============================] - 380s 2ms/step - loss: 0.4562 - binary_accuracy: 0.7593 - val_loss: 0.6724 - val_binary_accuracy: 0.6353\n",
            "Epoch 5/30\n",
            "170555/170555 [==============================] - 380s 2ms/step - loss: 0.4434 - binary_accuracy: 0.7666 - val_loss: 0.7221 - val_binary_accuracy: 0.5938\n",
            "Epoch 6/30\n",
            "170555/170555 [==============================] - 378s 2ms/step - loss: 0.4337 - binary_accuracy: 0.7719 - val_loss: 0.7112 - val_binary_accuracy: 0.6416\n",
            "Epoch 7/30\n",
            "170555/170555 [==============================] - 379s 2ms/step - loss: 0.4259 - binary_accuracy: 0.7762 - val_loss: 0.7470 - val_binary_accuracy: 0.6323\n",
            "Epoch 8/30\n",
            "170555/170555 [==============================] - 378s 2ms/step - loss: 0.4193 - binary_accuracy: 0.7801 - val_loss: 0.7109 - val_binary_accuracy: 0.6348\n",
            "Epoch 9/30\n",
            "170555/170555 [==============================] - 374s 2ms/step - loss: 0.4140 - binary_accuracy: 0.7829 - val_loss: 0.7426 - val_binary_accuracy: 0.6401\n",
            "Epoch 10/30\n",
            "170555/170555 [==============================] - 376s 2ms/step - loss: 0.4092 - binary_accuracy: 0.7856 - val_loss: 0.7295 - val_binary_accuracy: 0.6470\n",
            "Epoch 11/30\n",
            "170555/170555 [==============================] - 373s 2ms/step - loss: 0.4051 - binary_accuracy: 0.7878 - val_loss: 0.6965 - val_binary_accuracy: 0.6616\n",
            "Epoch 12/30\n",
            "170555/170555 [==============================] - 377s 2ms/step - loss: 0.4015 - binary_accuracy: 0.7897 - val_loss: 0.6790 - val_binary_accuracy: 0.6636\n",
            "Epoch 13/30\n",
            "170555/170555 [==============================] - 378s 2ms/step - loss: 0.3982 - binary_accuracy: 0.7916 - val_loss: 0.6914 - val_binary_accuracy: 0.6484\n",
            "Epoch 14/30\n",
            "170555/170555 [==============================] - 382s 2ms/step - loss: 0.3953 - binary_accuracy: 0.7931 - val_loss: 0.7355 - val_binary_accuracy: 0.6406\n",
            "Epoch 15/30\n",
            "170555/170555 [==============================] - 395s 2ms/step - loss: 0.3924 - binary_accuracy: 0.7946 - val_loss: 0.7136 - val_binary_accuracy: 0.6533\n",
            "Epoch 16/30\n",
            "170555/170555 [==============================] - 403s 2ms/step - loss: 0.3902 - binary_accuracy: 0.7959 - val_loss: 0.7067 - val_binary_accuracy: 0.6675\n",
            "Epoch 17/30\n",
            "170555/170555 [==============================] - 407s 2ms/step - loss: 0.3880 - binary_accuracy: 0.7970 - val_loss: 0.6751 - val_binary_accuracy: 0.6748\n",
            "Epoch 18/30\n",
            "170555/170555 [==============================] - 407s 2ms/step - loss: 0.3861 - binary_accuracy: 0.7981 - val_loss: 0.7044 - val_binary_accuracy: 0.6621\n",
            "Epoch 19/30\n",
            "170555/170555 [==============================] - 410s 2ms/step - loss: 0.3841 - binary_accuracy: 0.7993 - val_loss: 0.7549 - val_binary_accuracy: 0.6392\n",
            "Epoch 20/30\n",
            "170555/170555 [==============================] - 412s 2ms/step - loss: 0.3822 - binary_accuracy: 0.8002 - val_loss: 0.7423 - val_binary_accuracy: 0.6455\n",
            "Epoch 21/30\n",
            "170555/170555 [==============================] - 403s 2ms/step - loss: 0.3809 - binary_accuracy: 0.8009 - val_loss: 0.7046 - val_binary_accuracy: 0.6499\n",
            "Epoch 22/30\n",
            "170555/170555 [==============================] - 406s 2ms/step - loss: 0.3791 - binary_accuracy: 0.8020 - val_loss: 0.7363 - val_binary_accuracy: 0.6436\n",
            "Epoch 23/30\n",
            "170555/170555 [==============================] - 395s 2ms/step - loss: 0.3778 - binary_accuracy: 0.8026 - val_loss: 0.6977 - val_binary_accuracy: 0.6489\n",
            "Epoch 24/30\n",
            "170555/170555 [==============================] - 383s 2ms/step - loss: 0.3766 - binary_accuracy: 0.8033 - val_loss: 0.7157 - val_binary_accuracy: 0.6606\n",
            "Epoch 25/30\n",
            "170555/170555 [==============================] - 371s 2ms/step - loss: 0.3750 - binary_accuracy: 0.8042 - val_loss: 0.7177 - val_binary_accuracy: 0.6631\n",
            "Epoch 26/30\n",
            "170555/170555 [==============================] - 367s 2ms/step - loss: 0.3741 - binary_accuracy: 0.8045 - val_loss: 0.7087 - val_binary_accuracy: 0.6465\n",
            "Epoch 27/30\n",
            "170555/170555 [==============================] - 365s 2ms/step - loss: 0.3730 - binary_accuracy: 0.8053 - val_loss: 0.7201 - val_binary_accuracy: 0.6343\n",
            "Epoch 28/30\n",
            "170555/170555 [==============================] - 365s 2ms/step - loss: 0.3717 - binary_accuracy: 0.8058 - val_loss: 0.7510 - val_binary_accuracy: 0.6450\n",
            "Epoch 29/30\n",
            "170555/170555 [==============================] - 369s 2ms/step - loss: 0.3707 - binary_accuracy: 0.8064 - val_loss: 0.6967 - val_binary_accuracy: 0.6631\n",
            "Epoch 30/30\n",
            "170555/170555 [==============================] - 370s 2ms/step - loss: 0.3697 - binary_accuracy: 0.8070 - val_loss: 0.6991 - val_binary_accuracy: 0.6660\n"
          ],
          "name": "stdout"
        },
        {
          "output_type": "execute_result",
          "data": {
            "text/plain": [
              "<tensorflow.python.keras.callbacks.History at 0x7f1ea6256860>"
            ]
          },
          "metadata": {
            "tags": []
          },
          "execution_count": 16
        }
      ]
    },
    {
      "cell_type": "code",
      "metadata": {
        "colab": {
          "base_uri": "https://localhost:8080/"
        },
        "id": "CRa0oTJptG3y",
        "outputId": "4976c33f-87c2-4fe3-e3fa-27453187aa27"
      },
      "source": [
        "model.save(\"/content/drive/MyDrive/Numerical Methods Neural Chess/model\")"
      ],
      "execution_count": null,
      "outputs": [
        {
          "output_type": "stream",
          "text": [
            "WARNING:tensorflow:From /usr/local/lib/python3.6/dist-packages/tensorflow/python/training/tracking/tracking.py:111: Model.state_updates (from tensorflow.python.keras.engine.training) is deprecated and will be removed in a future version.\n",
            "Instructions for updating:\n",
            "This property should not be used in TensorFlow 2.0, as updates are applied automatically.\n",
            "WARNING:tensorflow:From /usr/local/lib/python3.6/dist-packages/tensorflow/python/training/tracking/tracking.py:111: Layer.updates (from tensorflow.python.keras.engine.base_layer) is deprecated and will be removed in a future version.\n",
            "Instructions for updating:\n",
            "This property should not be used in TensorFlow 2.0, as updates are applied automatically.\n",
            "INFO:tensorflow:Assets written to: /content/drive/MyDrive/Numerical Methods Neural Chess/model/assets\n"
          ],
          "name": "stdout"
        }
      ]
    },
    {
      "cell_type": "code",
      "metadata": {
        "id": "5Sn6CjG6-D6q",
        "colab": {
          "base_uri": "https://localhost:8080/"
        },
        "outputId": "871a3c08-036e-4f18-ba4a-0a930f2975ab"
      },
      "source": [
        "model.predict(states[0:31])\n",
        "#model.predict( np.array( [states[0],] )  )"
      ],
      "execution_count": null,
      "outputs": [
        {
          "output_type": "execute_result",
          "data": {
            "text/plain": [
              "array([[0.5716968 ],\n",
              "       [0.5455679 ],\n",
              "       [0.5098881 ],\n",
              "       [0.48017207],\n",
              "       [0.50622624],\n",
              "       [0.51181096],\n",
              "       [0.4644789 ],\n",
              "       [0.47134182],\n",
              "       [0.48943824],\n",
              "       [0.4701002 ],\n",
              "       [0.42597356],\n",
              "       [0.19748639],\n",
              "       [0.70423746],\n",
              "       [0.6141423 ],\n",
              "       [0.4912014 ],\n",
              "       [0.35274032],\n",
              "       [0.42386955],\n",
              "       [0.38980585],\n",
              "       [0.3452584 ],\n",
              "       [0.19029002],\n",
              "       [0.15920338],\n",
              "       [0.10591263],\n",
              "       [0.29519388],\n",
              "       [0.22287081],\n",
              "       [0.2773271 ],\n",
              "       [0.20338556],\n",
              "       [0.19091254],\n",
              "       [0.16717947],\n",
              "       [0.18175718],\n",
              "       [0.13404998],\n",
              "       [0.11011192]], dtype=float32)"
            ]
          },
          "metadata": {
            "tags": []
          },
          "execution_count": 27
        }
      ]
    }
  ]
}